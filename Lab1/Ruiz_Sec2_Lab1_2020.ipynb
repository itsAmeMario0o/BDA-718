{
 "cells": [
  {
   "cell_type": "code",
   "execution_count": 1,
   "metadata": {},
   "outputs": [],
   "source": [
    "import pandas as pd\n",
    "from sklearn import linear_model\n",
    "from sklearn.model_selection import train_test_split\n",
    "from sklearn.metrics import mean_squared_error\n",
    "from sklearn.metrics import r2_score\n",
    "# I need to clean up all my python kernals b/c this really should run within py3 and not py2\n",
    "import statsmodels.api as sm\n",
    "import matplotlib.pyplot as plt"
   ]
  },
  {
   "cell_type": "code",
   "execution_count": 2,
   "metadata": {},
   "outputs": [],
   "source": [
    "# Read the data saved in my local /data/\n",
    "# Remember to upload these as part of the assignment\n",
    "with open('../data/Coaches.csv', 'rb') as f:\n",
    "    coaches = pd.read_csv(f).fillna(0)\n",
    "\n",
    "with open('../data/stadiums-geocoded.csv', 'rb') as f:\n",
    "    stadium = pd.read_csv(f).fillna(0)\n",
    "\n",
    "with open('../data/graduation-rates.csv', 'rb') as f:\n",
    "    grad_rates = pd.read_csv(f).fillna(0)\n",
    "\n",
    "with open('../data/2017-season.csv', 'rb') as f:\n",
    "    season_2017 = pd.read_csv(f).fillna(0)"
   ]
  },
  {
   "cell_type": "code",
   "execution_count": 3,
   "metadata": {},
   "outputs": [],
   "source": [
    "# Cleaning\n",
    "# Num Cols\n",
    "stadium_numerical = ['capacity', 'built', 'expanded']\n",
    "grad_numerical = ['gsr', 'fgr']\n",
    "season_numerical = ['win', 'loss', 'pct']\n",
    "coaches_numerical = [\n",
    "    'schoolpay',\n",
    "    'totalpay',\n",
    "    'bonus',\n",
    "    'bonuspaid',\n",
    "    'assistantpay',\n",
    "    'buyout'\n",
    "]\n",
    "\n",
    "# lowercase\n",
    "coaches = coaches.apply(lambda x: x.astype(str).str.lower())\n",
    "stadium = stadium.apply(lambda x: x.astype(str).str.lower())\n",
    "grad_rates = grad_rates.apply(lambda x: x.astype(str).str.lower())\n",
    "season_2017 = season_2017.apply(lambda x: x.astype(str).str.lower())\n",
    "\n",
    "# col names to lowercase\n",
    "coaches.columns = coaches.columns.str.lower()\n",
    "stadium.columns = stadium.columns.str.lower()\n",
    "grad_rates.columns = grad_rates.columns.str.lower()\n",
    "season_2017.columns = season_2017.columns.str.lower()\n",
    "\n",
    "# remove non-numeric to empty space\n",
    "coaches[coaches_numerical] = coaches[coaches_numerical].replace('[\\$,--]', '', regex=True)\n",
    "\n",
    "# convert column name - play nice with df merge\n",
    "stadium = stadium.rename(columns={'team': 'school'})\n",
    "\n",
    "# $$ to numeric\n",
    "stadium[stadium_numerical] = stadium[stadium_numerical].apply(\n",
    "    pd.to_numeric,\n",
    "    errors='coerce',\n",
    "    axis=1\n",
    ").fillna(0)\n",
    "\n",
    "# $$ to numeric\n",
    "coaches[coaches_numerical] = coaches[coaches_numerical].apply(\n",
    "    pd.to_numeric,\n",
    "    errors='coerce',\n",
    "    axis=1\n",
    ").fillna(0)\n",
    "\n",
    "# grad_rates to numeric\n",
    "grad_rates[grad_numerical] = grad_rates[grad_numerical].apply(\n",
    "    pd.to_numeric,\n",
    "    errors='coerce',\n",
    "    axis=1\n",
    ").fillna(0)\n",
    "\n",
    "# coerce season rate to numeric\n",
    "season_2017[season_numerical] = season_2017[season_numerical].apply(\n",
    "    pd.to_numeric,\n",
    "    errors='coerce',\n",
    "    axis=1\n",
    ").fillna(0)"
   ]
  },
  {
   "cell_type": "code",
   "execution_count": 4,
   "metadata": {},
   "outputs": [],
   "source": [
    "stadium = stadium[['stadium', 'school'] + stadium_numerical]\n",
    "\n",
    "# replace acronym with school name\n",
    "stadium['school'] = stadium['school'].replace(['ucf'], 'central florida')\n",
    "stadium['school'] = stadium['school'].replace(['usf'], 'south florida')\n",
    "stadium['school'] = stadium['school'].replace(['utsa'], 'texas-san antonio')\n",
    "stadium['school'] = stadium['school'].replace(['byu'], 'brigham young')\n",
    "stadium['school'] = stadium['school'].replace(['utep'], 'texas-el paso')\n",
    "stadium['school'] = stadium['school'].replace(['tcu'], 'texas christian')\n",
    "stadium['school'] = stadium['school'].replace(['unlv'], 'nevada-las vegas')\n",
    "stadium['school'] = stadium['school'].replace(['smu'], 'southern methodist')\n",
    "stadium['school'] = stadium['school'].replace(['niu'], 'northern illinois')\n",
    "stadium['school'] = stadium['school'].replace(['miami (oh)'], 'miami (ohio)')\n",
    "stadium['school'] = stadium['school'].replace(['fiu'], 'florida international')\n",
    "stadium['school'] = stadium['school'].replace(['umass'], 'massachusetts')\n",
    "stadium['school'] = stadium['school'].replace(['yale bulldogs'], 'connecticut')\n",
    "\n",
    "# stadium pre 2007: attraining stadium data after 2006, will not\n",
    "#      join with the grad_rates dataframe, since the 2006 cohort\n",
    "#      is the focus.\n",
    "#\n",
    "stadium = stadium[stadium['expanded'] <= 2006]"
   ]
  },
  {
   "cell_type": "code",
   "execution_count": 5,
   "metadata": {},
   "outputs": [],
   "source": [
    "# merge coaches + stadium\n",
    "merged_df = pd.merge(coaches, stadium, on='school', how='inner')\n",
    "\n",
    "# merge graduation rates\n",
    "merged_df = pd.merge(merged_df, grad_rates, on='school', how='inner')\n",
    "\n",
    "# merge 2017 season\n",
    "merged_df = pd.merge(merged_df, season_2017, on='school', how='inner')"
   ]
  },
  {
   "cell_type": "code",
   "execution_count": 6,
   "metadata": {},
   "outputs": [],
   "source": [
    "# Model prep\n",
    "# local variables\n",
    "lin_reg = linear_model.LinearRegression()\n",
    "\n",
    "# split train + test\n",
    "train, test = train_test_split(merged_df, test_size=0.33)\n",
    "\n",
    "#\n",
    "# train model\n",
    "#\n",
    "y_train = train[['schoolpay']]\n",
    "X_train = train[['capacity', 'gsr', 'pct']]\n",
    "lin_reg.fit(X_train, y_train)\n",
    "\n",
    "#\n",
    "# predict\n",
    "#\n",
    "y_test = test[['schoolpay']]\n",
    "X_test = test[['capacity', 'gsr', 'pct']]\n",
    "y_pred = lin_reg.predict(X_test)"
   ]
  },
  {
   "cell_type": "code",
   "execution_count": 10,
   "metadata": {},
   "outputs": [
    {
     "name": "stdout",
     "output_type": "stream",
     "text": [
      "[[2081669.53657188]]\n"
     ]
    }
   ],
   "source": [
    "# predict syracuse salary\n",
    "target = merged_df[merged_df['school'] == 'syracuse']\n",
    "sal_num = lin_reg.predict(target[['capacity', 'gsr', 'pct']])\n",
    "print sal_num"
   ]
  },
  {
   "cell_type": "code",
   "execution_count": 11,
   "metadata": {},
   "outputs": [
    {
     "data": {
      "text/plain": [
       "[<matplotlib.lines.Line2D at 0x7fa91b08ead0>]"
      ]
     },
     "execution_count": 11,
     "metadata": {},
     "output_type": "execute_result"
    },
    {
     "data": {
      "image/png": "[encoded data removed]",
      "text/plain": [
       "<Figure size 432x288 with 1 Axes>"
      ]
     },
     "metadata": {
      "needs_background": "light"
     },
     "output_type": "display_data"
    }
   ],
   "source": [
    "# prediction vs actual data\n",
    "plt.plot(y_test, y_pred, '.')"
   ]
  },
  {
   "cell_type": "code",
   "execution_count": 12,
   "metadata": {},
   "outputs": [
    {
     "name": "stdout",
     "output_type": "stream",
     "text": [
      "model coefficients: [[6.02908011e+01 8.72871716e+03 6.73616578e+05]]\n",
      "model intercept: [-1784302.49731568]\n",
      "mean squared error: 1.68402911644e+12\n",
      "rsquared: 0.330370239918\n"
     ]
    }
   ],
   "source": [
    "print('model coefficients: {}\\nmodel intercept: {}\\nmean squared error: {}\\nrsquared: {}'.format(\n",
    "    lin_reg.coef_,\n",
    "    lin_reg.intercept_,\n",
    "    mean_squared_error(y_test, y_pred),\n",
    "    r2_score(y_test, y_pred)\n",
    "))"
   ]
  },
  {
   "cell_type": "code",
   "execution_count": 13,
   "metadata": {},
   "outputs": [
    {
     "name": "stdout",
     "output_type": "stream",
     "text": [
      "                                 OLS Regression Results                                \n",
      "=======================================================================================\n",
      "Dep. Variable:              schoolpay   R-squared (uncentered):                   0.836\n",
      "Model:                            OLS   Adj. R-squared (uncentered):              0.827\n",
      "Method:                 Least Squares   F-statistic:                              91.83\n",
      "Date:                Sat, 25 Jul 2020   Prob (F-statistic):                    3.38e-21\n",
      "Time:                        20:16:13   Log-Likelihood:                         -876.54\n",
      "No. Observations:                  57   AIC:                                      1759.\n",
      "Df Residuals:                      54   BIC:                                      1765.\n",
      "Df Model:                           3                                                  \n",
      "Covariance Type:            nonrobust                                                  \n",
      "==============================================================================\n",
      "                 coef    std err          t      P>|t|      [0.025      0.975]\n",
      "------------------------------------------------------------------------------\n",
      "capacity      54.7162      7.315      7.480      0.000      40.051      69.382\n",
      "gsr        -5393.8542   6127.661     -0.880      0.383   -1.77e+04    6891.367\n",
      "pct        -1.787e+05   6.88e+05     -0.260      0.796   -1.56e+06     1.2e+06\n",
      "==============================================================================\n",
      "Omnibus:                        3.318   Durbin-Watson:                   1.802\n",
      "Prob(Omnibus):                  0.190   Jarque-Bera (JB):                2.375\n",
      "Skew:                          -0.372   Prob(JB):                        0.305\n",
      "Kurtosis:                       3.668   Cond. No.                     2.43e+05\n",
      "==============================================================================\n",
      "\n",
      "Warnings:\n",
      "[1] Standard Errors assume that the covariance matrix of the errors is correctly specified.\n",
      "[2] The condition number is large, 2.43e+05. This might indicate that there are\n",
      "strong multicollinearity or other numerical problems.\n"
     ]
    }
   ],
   "source": [
    "# train ols\n",
    "est = sm.OLS(y_train, X_train)\n",
    "ols_reg = est.fit()\n",
    "print(ols_reg.summary())"
   ]
  },
  {
   "cell_type": "code",
   "execution_count": 14,
   "metadata": {},
   "outputs": [
    {
     "data": {
      "text/plain": [
       "[<matplotlib.lines.Line2D at 0x7fa914b7acd0>]"
      ]
     },
     "execution_count": 14,
     "metadata": {},
     "output_type": "execute_result"
    },
    {
     "data": {
      "image/png": "[encoded data removed]",
      "text/plain": [
       "<Figure size 432x288 with 1 Axes>"
      ]
     },
     "metadata": {
      "needs_background": "light"
     },
     "output_type": "display_data"
    }
   ],
   "source": [
    "# plot ols\n",
    "ols_pred = ols_reg.predict(X_test)\n",
    "plt.plot(y_test, ols_pred, '.')"
   ]
  },
  {
   "cell_type": "code",
   "execution_count": 15,
   "metadata": {},
   "outputs": [
    {
     "data": {
      "text/plain": [
       "68    2.219865e+06\n",
       "dtype: float64"
      ]
     },
     "execution_count": 15,
     "metadata": {},
     "output_type": "execute_result"
    }
   ],
   "source": [
    "# predict ols\n",
    "ols_reg.predict(target[['capacity', 'gsr', 'pct']])"
   ]
  },
  {
   "cell_type": "code",
   "execution_count": 16,
   "metadata": {},
   "outputs": [],
   "source": [
    "# big 10: split train + test\n",
    "train_big10, test_big_10 = train_test_split(merged_df[merged_df['conference'] == 'big ten'], test_size=0.33)\n",
    "\n",
    "#\n",
    "# big 10: train model\n",
    "#\n",
    "y_train_big10 = train_big10[['schoolpay']]\n",
    "X_train_big10 = train_big10[['capacity', 'gsr', 'pct']]"
   ]
  },
  {
   "cell_type": "code",
   "execution_count": 17,
   "metadata": {},
   "outputs": [
    {
     "name": "stdout",
     "output_type": "stream",
     "text": [
      "                                 OLS Regression Results                                \n",
      "=======================================================================================\n",
      "Dep. Variable:              schoolpay   R-squared (uncentered):                   0.998\n",
      "Model:                            OLS   Adj. R-squared (uncentered):              0.992\n",
      "Method:                 Least Squares   F-statistic:                              171.5\n",
      "Date:                Sat, 25 Jul 2020   Prob (F-statistic):                      0.0561\n",
      "Time:                        20:20:23   Log-Likelihood:                         -53.661\n",
      "No. Observations:                   4   AIC:                                      113.3\n",
      "Df Residuals:                       1   BIC:                                      111.5\n",
      "Df Model:                           3                                                  \n",
      "Covariance Type:            nonrobust                                                  \n",
      "==============================================================================\n",
      "                 coef    std err          t      P>|t|      [0.025      0.975]\n",
      "------------------------------------------------------------------------------\n",
      "capacity      33.8404     12.764      2.651      0.230    -128.343     196.024\n",
      "gsr          4.44e+04   1.03e+04      4.325      0.145    -8.6e+04    1.75e+05\n",
      "pct        -2.258e+06   1.23e+06     -1.843      0.316   -1.78e+07    1.33e+07\n",
      "==============================================================================\n",
      "Omnibus:                          nan   Durbin-Watson:                   2.664\n",
      "Prob(Omnibus):                    nan   Jarque-Bera (JB):                0.489\n",
      "Skew:                           0.720   Prob(JB):                        0.783\n",
      "Kurtosis:                       2.073   Cond. No.                     4.57e+05\n",
      "==============================================================================\n",
      "\n",
      "Warnings:\n",
      "[1] Standard Errors assume that the covariance matrix of the errors is correctly specified.\n",
      "[2] The condition number is large, 4.57e+05. This might indicate that there are\n",
      "strong multicollinearity or other numerical problems.\n"
     ]
    },
    {
     "name": "stderr",
     "output_type": "stream",
     "text": [
      "/opt/anaconda2/lib/python2.7/site-packages/statsmodels/stats/stattools.py:71: ValueWarning: omni_normtest is not valid with less than 8 observations; 4 samples were given.\n",
      "  \"samples were given.\" % int(n), ValueWarning)\n"
     ]
    }
   ],
   "source": [
    "# big 10: train ols\n",
    "\n",
    "est_big10 = sm.OLS(y_train_big10, X_train_big10)\n",
    "ols_reg_big10 = est_big10.fit()\n",
    "print(ols_reg_big10.summary())"
   ]
  },
  {
   "cell_type": "code",
   "execution_count": 18,
   "metadata": {},
   "outputs": [
    {
     "data": {
      "text/plain": [
       "68    4.332287e+06\n",
       "dtype: float64"
      ]
     },
     "execution_count": 18,
     "metadata": {},
     "output_type": "execute_result"
    }
   ],
   "source": [
    "# big 10: predict ols\n",
    "ols_reg_big10.predict(target[['capacity', 'gsr', 'pct']])"
   ]
  },
  {
   "cell_type": "code",
   "execution_count": null,
   "metadata": {},
   "outputs": [],
   "source": []
  }
 ],
 "metadata": {
  "kernelspec": {
   "display_name": "Python 2",
   "language": "python",
   "name": "python2"
  },
  "language_info": {
   "codemirror_mode": {
    "name": "ipython",
    "version": 2
   },
   "file_extension": ".py",
   "mimetype": "text/x-python",
   "name": "python",
   "nbconvert_exporter": "python",
   "pygments_lexer": "ipython2",
   "version": "2.7.16"
  }
 },
 "nbformat": 4,
 "nbformat_minor": 2
}
